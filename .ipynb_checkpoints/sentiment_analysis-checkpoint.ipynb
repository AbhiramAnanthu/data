{
 "cells": [
  {
   "cell_type": "code",
   "execution_count": null,
   "id": "ad9eee97-2e0d-4865-bc7b-41265d3643ca",
   "metadata": {},
   "outputs": [],
   "source": [
    "import requests\n",
    "from bs4 import BeautifulSoup\n",
    "\n",
    "base_url = \"https://www.airlinequality.com/airline-reviews/british-airways/\"\n",
    "max_pages = 100\n",
    "reviews = []\n",
    "\n",
    "for i in range(1, max_pages+1):\n",
    "    response = requests.get(f\"https://www.airlinequality.com/airline-reviews/british-airways/page/{i}/\")\n",
    "    if response:\n",
    "        content = response.content\n",
    "        parsed_content = BeautifulSoup(content,\"html.parser\")\n",
    "        articles = parsed_content.find_all(\"article\",{\"class\":\"comp_media-review-rated\"})\n",
    "        for article in articles:\n",
    "            para = article.find(\"div\",{\"class\":\"text_content\"})\n",
    "            char_index = para.text.find(\"|\")\n",
    "            if char_index != -1:\n",
    "                reviews.append(para.text[char_index+1:])\n",
    "            else:\n",
    "                reviews.append(para.text)"
   ]
  },
  {
   "cell_type": "code",
   "execution_count": null,
   "id": "b3b64a4d-74d8-45a1-9ae4-bcef6fb065f6",
   "metadata": {},
   "outputs": [],
   "source": [
    "import pandas as pd\n",
    "dataset = pd.DataFrame()\n",
    "dataset[\"reviews\"] = reviews\n",
    "dataset.head()"
   ]
  },
  {
   "cell_type": "markdown",
   "id": "7528f5f1-c362-44df-ad69-69bc1f76cd0c",
   "metadata": {},
   "source": [
    "Machine Learning Model for Sentiment Analysis"
   ]
  },
  {
   "cell_type": "code",
   "execution_count": null,
   "id": "63178be4-7b11-410e-869d-3e63ec58a41e",
   "metadata": {},
   "outputs": [],
   "source": [
    "df = pd.read_csv('training.1600000.processed.noemoticon.csv',encoding = \"ISO-8859-1\")\n",
    "df.head()"
   ]
  },
  {
   "cell_type": "code",
   "execution_count": null,
   "id": "40c39669-9981-4f50-bfc4-c78d23399549",
   "metadata": {},
   "outputs": [],
   "source": [
    "!pip install nltk"
   ]
  },
  {
   "cell_type": "code",
   "execution_count": null,
   "id": "b16be371-23e3-4437-8b3e-a5bcc4f3515e",
   "metadata": {},
   "outputs": [],
   "source": [
    "import nltk\n",
    "nltk.download('stopwords')"
   ]
  },
  {
   "cell_type": "code",
   "execution_count": null,
   "id": "64de1194-b605-466e-8ed8-81c2a1899862",
   "metadata": {},
   "outputs": [],
   "source": [
    "from nltk.corpus import stopwords\n",
    "stopwords.words(\"english\")"
   ]
  },
  {
   "cell_type": "code",
   "execution_count": null,
   "id": "9545acd1-dd16-4ada-a4d3-3e0927a71e0d",
   "metadata": {},
   "outputs": [],
   "source": [
    "df.replace({\"target\":{4:1}},inplace = True)\n",
    "df.head(10)\n",
    "df.rename(columns={df.columns[-1]: \"text\"}, inplace=True)\n",
    "df.rename(columns={df.columns[0]:\"target\"},inplace=True)\n",
    "df.head()"
   ]
  },
  {
   "cell_type": "code",
   "execution_count": null,
   "id": "ec6e3d94-86b8-4417-8b18-f94616b9785c",
   "metadata": {},
   "outputs": [],
   "source": [
    "from nltk.stem.porter import PorterStemmer\n",
    "from nltk.corpus import stopwords\n",
    "import re\n",
    "port_stem = PorterStemmer()\n",
    "\n",
    "def stemming(row): \n",
    "    content = re.sub('[^a-zA-Z]', ' ', row['text']) \n",
    "    content = content.lower() \n",
    "    content = content.split() \n",
    "    stop_words = set(stopwords.words('english')) \n",
    "    content = [port_stem.stem(word) for word in content if word not in stop_words] \n",
    "    content = ' '.join(content)\n",
    "    if row.name%100000 == 0:\n",
    "        print(f\"cleaned {row.name}\")\n",
    "    return content"
   ]
  },
  {
   "cell_type": "code",
   "execution_count": null,
   "id": "5e814678-c81e-48fb-b486-621d07e3cc0e",
   "metadata": {},
   "outputs": [],
   "source": [
    "df['stemmed_text'] = df.apply(stemming, axis=1)"
   ]
  },
  {
   "cell_type": "code",
   "execution_count": null,
   "id": "d3e60260-cc2b-4afd-b7e4-5c2374210751",
   "metadata": {},
   "outputs": [],
   "source": [
    "df.head()"
   ]
  },
  {
   "cell_type": "code",
   "execution_count": null,
   "id": "44df4736-e88e-4b24-b668-ff1410fc314c",
   "metadata": {},
   "outputs": [],
   "source": [
    "df.rename(columns={df.columns[0]:\"target\"},inplace=True)"
   ]
  },
  {
   "cell_type": "code",
   "execution_count": null,
   "id": "99ab8e4c-2356-438d-b5ec-8d74954cf543",
   "metadata": {},
   "outputs": [],
   "source": [
    "from sklearn.feature_extraction.text import TfidfVectorizer\n",
    "\n",
    "vectorizer = TfidfVectorizer()\n",
    "X = vectorizer.fit_transform(df['stemmed_text'])\n",
    "y = df['target']"
   ]
  },
  {
   "cell_type": "code",
   "execution_count": null,
   "id": "11068ad9-272a-4b69-81a1-ae2147a80a05",
   "metadata": {},
   "outputs": [],
   "source": [
    "from sklearn.model_selection import train_test_split\n",
    "X_train,X_test,y_train,y_test = train_test_split(X,y,test_size = 0.2, stratify = y,random_state=2)"
   ]
  },
  {
   "cell_type": "code",
   "execution_count": null,
   "id": "177914f5-7e87-4c74-98c1-1df8a104f1cd",
   "metadata": {},
   "outputs": [],
   "source": [
    "X_train.shape"
   ]
  },
  {
   "cell_type": "code",
   "execution_count": null,
   "id": "b5fda59a-9178-4286-a5d8-75e5eeb42122",
   "metadata": {},
   "outputs": [],
   "source": [
    "X_test.shape"
   ]
  },
  {
   "cell_type": "code",
   "execution_count": null,
   "id": "cdd6790c-4134-4b99-8836-ce4a20a9c411",
   "metadata": {},
   "outputs": [],
   "source": [
    "type(X_train)"
   ]
  },
  {
   "cell_type": "code",
   "execution_count": null,
   "id": "2906ccf4-0d70-4a21-b146-11797d0f0fe6",
   "metadata": {},
   "outputs": [],
   "source": [
    "y"
   ]
  },
  {
   "cell_type": "code",
   "execution_count": null,
   "id": "9605a1be-b8bd-4385-a2eb-7eec5c1d32ca",
   "metadata": {},
   "outputs": [],
   "source": [
    "X_train"
   ]
  },
  {
   "cell_type": "code",
   "execution_count": null,
   "id": "ec3ab623-e89a-4ea2-a8b1-38f16d654afa",
   "metadata": {},
   "outputs": [],
   "source": [
    "from sklearn.linear_model import LogisticRegression\n",
    "\n",
    "model = LogisticRegression(max_iter=1000)\n",
    "model.fit(X_train,y_train)"
   ]
  },
  {
   "cell_type": "code",
   "execution_count": null,
   "id": "11ca6a5e-0ed4-4de9-bd5d-50af0e83dc56",
   "metadata": {},
   "outputs": [],
   "source": [
    "from sklearn.metrics import accuracy_score\n",
    "\n",
    "X_train_pred = model.predict(X_train)\n",
    "trainning_accuracy = accuracy_score(y_train,X_train_pred)\n",
    "print(trainning_accuracy)\n",
    "\n",
    "y_pred = model.predict(X_test)\n",
    "accuracy = accuracy_score(y_test,y_pred)\n",
    "print(accuracy)"
   ]
  },
  {
   "cell_type": "code",
   "execution_count": null,
   "id": "a89bf85e-8e69-4c5a-bb9f-cc181e540479",
   "metadata": {},
   "outputs": [],
   "source": [
    "Model accuracy : 77.7%"
   ]
  },
  {
   "cell_type": "code",
   "execution_count": null,
   "id": "02abb6ae-12af-414e-8648-1f14fa1f2d49",
   "metadata": {},
   "outputs": [],
   "source": [
    "import pickle\n",
    "pickle.dump(model,open(\"sentiment_model.pkl\",\"wb\"))\n",
    "pickle.dump(vectorizer,open(\"vectorizer.pkl\",\"wb\"))"
   ]
  },
  {
   "cell_type": "markdown",
   "id": "e55bfde6-c7dc-478e-ad07-4355218b0596",
   "metadata": {},
   "source": [
    "BRITISH AIRWAYS REVIEW SENTIMENT ANALYSIS"
   ]
  },
  {
   "cell_type": "code",
   "execution_count": null,
   "id": "ea9a0d7a-9485-40c1-9b54-0c229cc7ee46",
   "metadata": {},
   "outputs": [],
   "source": [
    "dataset.head()"
   ]
  },
  {
   "cell_type": "code",
   "execution_count": null,
   "id": "a8be4404-969d-4f08-9467-493ecb14fbb1",
   "metadata": {},
   "outputs": [],
   "source": [
    "dataset.columns"
   ]
  },
  {
   "cell_type": "code",
   "execution_count": null,
   "id": "47ec4992-e031-44a9-ad39-96fb96e670eb",
   "metadata": {},
   "outputs": [],
   "source": [
    "model = pickle.load(open(\"sentiment_model.pkl\", \"rb\"))\n",
    "vectorize_model = pickle.load(open(\"vectorizer.pkl\", \"rb\"))\n",
    "def get_prediction(row):\n",
    "    text = row['reviews']\n",
    "    encoding = vectorize_model.transform([text])\n",
    "    prediction = model.predict(encoding) \n",
    "    if row.name % 100 == 0: \n",
    "        print(f\"Completed {row.name} rows\") \n",
    "    return prediction[0]\n",
    "dataset['sentiment'] = dataset.apply(get_prediction, axis=1)"
   ]
  },
  {
   "cell_type": "code",
   "execution_count": null,
   "id": "3771550c-c556-4701-bc04-9f698c9d6bc3",
   "metadata": {},
   "outputs": [],
   "source": [
    "dataset.head()"
   ]
  },
  {
   "cell_type": "code",
   "execution_count": null,
   "id": "8dbc1a78-6de1-4ee0-af4b-8a5a2df0101a",
   "metadata": {},
   "outputs": [],
   "source": [
    "from matplotlib import pyplot as plt\n",
    "dataset['sentiment'].value_counts().plot(kind = 'bar',title = \"Sentiment analysis of BA\")"
   ]
  },
  {
   "cell_type": "code",
   "execution_count": null,
   "id": "18eb972d-5c57-47aa-9282-c862bf75775f",
   "metadata": {},
   "outputs": [],
   "source": [
    "dataset['sentiment'].value_counts()"
   ]
  },
  {
   "cell_type": "code",
   "execution_count": null,
   "id": "396dc36b-7e0c-406f-b01f-26ba1e453845",
   "metadata": {},
   "outputs": [],
   "source": [
    "from sentence_transformers import SentenceTransformer,util\n",
    "\n",
    "complaints = [\n",
    "    \"The flight was delayed by several hours.\",\n",
    "    \"My flight got canceled at the last minute.\",\n",
    "    \"My luggage was lost during transit.\",\n",
    "    \"My baggage was damaged upon arrival.\",\n",
    "    \"The customer service was rude and unhelpful.\",\n",
    "    \"The seats were too cramped and uncomfortable.\",\n",
    "    \"The in-flight food was of poor quality.\",\n",
    "    \"There was no variety in the food options.\",\n",
    "    \"The aircraft was not clean.\",\n",
    "    \"The restroom was dirty and poorly maintained.\",\n",
    "    \"I was charged unexpected fees for my baggage.\",\n",
    "    \"I had to pay extra for seat selection.\",\n",
    "    \"Changing my flight was very difficult and expensive.\",\n",
    "    \"The in-flight entertainment system was not working.\",\n",
    "    \"There were very few entertainment options available.\",\n",
    "    \"The boarding process was chaotic and disorganized.\",\n",
    "    \"It took too long to disembark from the plane.\",\n",
    "    \"I did not feel safe during the flight.\",\n",
    "    \"The security procedures were inadequate.\",\n",
    "    \"I had issues with the frequent flyer program.\",\n",
    "    \"My frequent flyer points were not credited properly.\",\n",
    "    \"There were no rewards available for my frequent flyer points.\",\n",
    "    \"The check-in process was slow and inefficient.\",\n",
    "    \"The flight attendants were inattentive and unfriendly.\",\n",
    "    \"The Wi-Fi on the plane was very slow or didn't work at all.\",\n",
    "    \"My seat did not recline properly.\",\n",
    "    \"The armrests were broken.\",\n",
    "    \"I had no legroom during the flight.\",\n",
    "    \"The flight was overbooked, and I was bumped off.\",\n",
    "    \"The cabin temperature was too hot or too cold.\",\n",
    "    \"The overhead bins were full, and I had to check my carry-on.\",\n",
    "    \"The plane was very noisy during the flight.\",\n",
    "    \"I was not informed about gate changes.\",\n",
    "    \"I had difficulty understanding the announcements.\",\n",
    "    \"The pilot provided very few updates about the flight status.\",\n",
    "    \"The inflight safety demonstration was unclear.\",\n",
    "    \"The baby crying throughout the flight disturbed me.\"\n",
    "]\n",
    "\n",
    "embed_model = SentenceTransformer(\"all-MiniLM-L6-v2\")\n",
    "embedding = embed_model.encode(complaints)"
   ]
  },
  {
   "cell_type": "code",
   "execution_count": null,
   "id": "b43ca11e-1abd-4d3c-9bc3-8dacd8660edb",
   "metadata": {},
   "outputs": [],
   "source": [
    "labels = [\n",
    "    \"Delay\",\n",
    "    \"Cancellation\",\n",
    "    \"LostLuggage\",\n",
    "    \"DamagedLuggage\",\n",
    "    \"CustomerService\",\n",
    "    \"CrampedSeats\",\n",
    "    \"FoodQuality\",\n",
    "    \"FoodVariety\",\n",
    "    \"UncleanAircraft\",\n",
    "    \"DirtyRestroom\",\n",
    "    \"ExtraFees\",\n",
    "    \"SeatSelection\",\n",
    "    \"FlightChange\",\n",
    "    \"EntertainmentIssue\",\n",
    "    \"FewEntertainment\",\n",
    "    \"BoardingProcess\",\n",
    "    \"Disembarking\",\n",
    "    \"SafetyConcern\",\n",
    "    \"Security\",\n",
    "    \"FrequentFlyer\",\n",
    "    \"PointsCredit\",\n",
    "    \"NoRewards\",\n",
    "    \"CheckIn\",\n",
    "    \"Attendants\",\n",
    "    \"WiFi\",\n",
    "    \"SeatRecline\",\n",
    "    \"BrokenArmrest\",\n",
    "    \"NoLegroom\",\n",
    "    \"Overbooked\",\n",
    "    \"CabinTemperature\",\n",
    "    \"FullBins\",\n",
    "    \"Noise\",\n",
    "    \"GateChange\",\n",
    "    \"Announcements\",\n",
    "    \"PilotUpdates\",\n",
    "    \"SafetyDemo\",\n",
    "    \"CryingBaby\"\n",
    "]"
   ]
  },
  {
   "cell_type": "code",
   "execution_count": null,
   "id": "c6eaa30b-1fab-49cc-b743-0905bc6b6b2c",
   "metadata": {},
   "outputs": [],
   "source": [
    "def compute_similarity_score(row, complaint_embeddings, model): \n",
    "    text = row['reviews'] # Assuming 'reviews' is the column with customer complaints \n",
    "    embedding = model.encode([text])[0] \n",
    "    similarities = util.cos_sim(embedding, complaint_embeddings) \n",
    "    max_similarity_index = np.argmax(similarities.numpy()) \n",
    "    max_similarity_score = similarities[0][max_similarity_index].item() \n",
    "    if row['sentiment'] == 0:\n",
    "        return labels[max_similarity_index]\n",
    "    return \"No Complaint\"\n",
    "dataset['complaint_type'] = dataset.apply(compute_similarity_score,axis=1,complaint_embeddings=embedding,model = embed_model)"
   ]
  },
  {
   "cell_type": "code",
   "execution_count": null,
   "id": "19afa05a-f9c6-4d8c-9cd0-87ecaf649ecd",
   "metadata": {},
   "outputs": [],
   "source": [
    "dataset.head()"
   ]
  },
  {
   "cell_type": "code",
   "execution_count": null,
   "id": "76766d83-a9aa-43b8-940c-7c76b5dc0ceb",
   "metadata": {},
   "outputs": [],
   "source": [
    "dataset['complaint_type'].value_counts().plot(kind=\"bar\",title=\"Complaint analysis\")"
   ]
  },
  {
   "cell_type": "code",
   "execution_count": null,
   "id": "16806797-0f08-4195-a8d3-7bd173f37c7c",
   "metadata": {},
   "outputs": [],
   "source": [
    "dataset['complaint_type'].value_counts()"
   ]
  },
  {
   "cell_type": "code",
   "execution_count": null,
   "id": "b8315aba-fa9f-4892-8f0e-d3b8edc65564",
   "metadata": {},
   "outputs": [],
   "source": []
  }
 ],
 "metadata": {
  "kernelspec": {
   "display_name": "Python 3 (ipykernel)",
   "language": "python",
   "name": "python3"
  },
  "language_info": {
   "codemirror_mode": {
    "name": "ipython",
    "version": 3
   },
   "file_extension": ".py",
   "mimetype": "text/x-python",
   "name": "python",
   "nbconvert_exporter": "python",
   "pygments_lexer": "ipython3",
   "version": "3.12.6"
  }
 },
 "nbformat": 4,
 "nbformat_minor": 5
}
